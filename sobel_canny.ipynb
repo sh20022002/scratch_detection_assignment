{
 "cells": [
  {
   "cell_type": "code",
   "execution_count": 2,
   "id": "a5849955",
   "metadata": {},
   "outputs": [],
   "source": [
    "import pandas as pd\n",
    "import zipfile\n",
    "from datetime import datetime"
   ]
  },
  {
   "cell_type": "code",
   "execution_count": 3,
   "id": "679d912d",
   "metadata": {},
   "outputs": [],
   "source": [
    "#load zip file\n",
    "zf = zipfile.ZipFile('data.zip') "
   ]
  },
  {
   "cell_type": "code",
   "execution_count": 4,
   "id": "db619273",
   "metadata": {},
   "outputs": [
    {
     "data": {
      "text/html": [
       "<div>\n",
       "<style scoped>\n",
       "    .dataframe tbody tr th:only-of-type {\n",
       "        vertical-align: middle;\n",
       "    }\n",
       "\n",
       "    .dataframe tbody tr th {\n",
       "        vertical-align: top;\n",
       "    }\n",
       "\n",
       "    .dataframe thead th {\n",
       "        text-align: right;\n",
       "    }\n",
       "</style>\n",
       "<table border=\"1\" class=\"dataframe\">\n",
       "  <thead>\n",
       "    <tr style=\"text-align: right;\">\n",
       "      <th></th>\n",
       "      <th>WaferName</th>\n",
       "      <th>DieX</th>\n",
       "      <th>DieY</th>\n",
       "      <th>IsGoodDie</th>\n",
       "      <th>IsScratchDie</th>\n",
       "    </tr>\n",
       "  </thead>\n",
       "  <tbody>\n",
       "    <tr>\n",
       "      <th>0</th>\n",
       "      <td>8PFrAN</td>\n",
       "      <td>0</td>\n",
       "      <td>27</td>\n",
       "      <td>True</td>\n",
       "      <td>False</td>\n",
       "    </tr>\n",
       "    <tr>\n",
       "      <th>1</th>\n",
       "      <td>8PFrAN</td>\n",
       "      <td>0</td>\n",
       "      <td>28</td>\n",
       "      <td>True</td>\n",
       "      <td>False</td>\n",
       "    </tr>\n",
       "    <tr>\n",
       "      <th>2</th>\n",
       "      <td>8PFrAN</td>\n",
       "      <td>0</td>\n",
       "      <td>29</td>\n",
       "      <td>True</td>\n",
       "      <td>False</td>\n",
       "    </tr>\n",
       "    <tr>\n",
       "      <th>3</th>\n",
       "      <td>8PFrAN</td>\n",
       "      <td>0</td>\n",
       "      <td>30</td>\n",
       "      <td>True</td>\n",
       "      <td>False</td>\n",
       "    </tr>\n",
       "    <tr>\n",
       "      <th>4</th>\n",
       "      <td>8PFrAN</td>\n",
       "      <td>0</td>\n",
       "      <td>31</td>\n",
       "      <td>True</td>\n",
       "      <td>False</td>\n",
       "    </tr>\n",
       "  </tbody>\n",
       "</table>\n",
       "</div>"
      ],
      "text/plain": [
       "  WaferName  DieX  DieY  IsGoodDie  IsScratchDie\n",
       "0    8PFrAN     0    27       True         False\n",
       "1    8PFrAN     0    28       True         False\n",
       "2    8PFrAN     0    29       True         False\n",
       "3    8PFrAN     0    30       True         False\n",
       "4    8PFrAN     0    31       True         False"
      ]
     },
     "execution_count": 4,
     "metadata": {},
     "output_type": "execute_result"
    }
   ],
   "source": [
    "#load train data\n",
    "df_wafers = pd.read_csv(zf.open('wafers_train.csv'))\n",
    "df_wafers.head()"
   ]
  },
  {
   "cell_type": "code",
   "execution_count": 5,
   "id": "d01be0ef",
   "metadata": {},
   "outputs": [],
   "source": [
    "import numpy as np\n",
    "\n",
    "\n",
    "def to_np(df, canvas_size=(70, 70), offset=1, labels=True,):\n",
    "\n",
    "    H, W = canvas_size\n",
    "\n",
    "    # 0. build wafer map & ground‑truth mask as numpy\n",
    "    xy   = df[['DieX', 'DieY']].to_numpy(dtype=np.int16)\n",
    "    good = df['IsGoodDie'].to_numpy(dtype=bool)\n",
    "\n",
    "    wafer_np = np.zeros((H, W), np.float32)\n",
    "    wafer_np[xy[good, 1] - offset, xy[good, 0] - offset] = 1.0\n",
    "    wafer_np[xy[~good, 1] - offset, xy[~good, 0] - offset] = 0.0\n",
    "\n",
    "    if labels:\n",
    "      scratch = df['IsScratchDie'].to_numpy(dtype=bool)\n",
    "\n",
    "      lbl = np.zeros_like(wafer_np)\n",
    "      # Assign 1.0 to the coordinates where scratch is True\n",
    "      lbl[xy[scratch, 1] - offset, xy[scratch, 0] - offset] = 1.0\n",
    "    else:\n",
    "      lbl = None\n",
    "\n",
    "    return wafer_np, lbl"
   ]
  },
  {
   "cell_type": "code",
   "execution_count": 27,
   "id": "ae1264e0",
   "metadata": {},
   "outputs": [],
   "source": [
    "\n",
    "import cv2\n",
    "import matplotlib.pyplot as plt\n",
    "def show_wafer_edges(\n",
    "    wafer_np: np.ndarray,\n",
    "    lbl: np.ndarray,\n",
    "    threshold: int = 90\n",
    "):\n",
    "    \"\"\"\n",
    "    Show wafer as color-coded image with:\n",
    "    - Red = bad dies\n",
    "    - Green = ground truth scratch\n",
    "    - Blue = detected scratch contour\n",
    "    \"\"\"\n",
    "    # --- Sobel detection ---\n",
    "    sobelx = cv2.Sobel(wafer_np, cv2.CV_64F, 1, 0, ksize=3)\n",
    "    sobely = cv2.Sobel(wafer_np, cv2.CV_64F, 0, 1, ksize=3)\n",
    "    sobel = np.sqrt(sobelx**2 + sobely**2)\n",
    "    sobel_norm = cv2.normalize(sobel, None, 0, 255, cv2.NORM_MINMAX).astype(np.uint8)\n",
    "    # Apply threshold - set values below threshold to 0\n",
    "    sobel_norm[sobel_norm < threshold] = 0.0\n",
    "\n",
    "    # Normalize back to 0-1 after thresholding\n",
    "    sobel_norm = sobel_norm.astype(np.float32) / 255.0\n",
    "    # Show result\n",
    "    \n",
    "    plt.figure(figsize=(6, 6))\n",
    "    plt.imshow(sobel_norm)\n",
    "    plt.title(\"sobel\")\n",
    "    plt.show()\n",
    "    plt.imshow(wafer_np)\n",
    "    plt.title(\"wafer\")\n",
    "    plt.axis('off')\n",
    "    plt.tight_layout()\n",
    "    plt.show()\n"
   ]
  },
  {
   "cell_type": "code",
   "execution_count": null,
   "id": "691c5da4",
   "metadata": {},
   "outputs": [
    {
     "data": {
      "image/png": "[encoded data removed]",
      "text/plain": [
       "<Figure size 600x600 with 1 Axes>"
      ]
     },
     "metadata": {},
     "output_type": "display_data"
    },
    {
     "data": {
      "image/png": "[encoded data removed]",
      "text/plain": [
       "<Figure size 640x480 with 1 Axes>"
      ]
     },
     "metadata": {},
     "output_type": "display_data"
    }
   ],
   "source": [
    "import random\n",
    "wafer_ids = df_wafers['WaferName'].unique()\n",
    "n = random.randint(0, len(wafer_ids))\n",
    "wafer_df = df_wafers.groupby('WaferName', sort=False).get_group(wafer_ids[n])\n",
    "arr, lbl = to_np(wafer_df)\n",
    "show_wafer_edges(arr, lbl, threshold=90)\n"
   ]
  }
 ],
 "metadata": {
  "kernelspec": {
   "display_name": "Python 3",
   "language": "python",
   "name": "python3"
  },
  "language_info": {
   "codemirror_mode": {
    "name": "ipython",
    "version": 3
   },
   "file_extension": ".py",
   "mimetype": "text/x-python",
   "name": "python",
   "nbconvert_exporter": "python",
   "pygments_lexer": "ipython3",
   "version": "3.10.0"
  }
 },
 "nbformat": 4,
 "nbformat_minor": 5
}
